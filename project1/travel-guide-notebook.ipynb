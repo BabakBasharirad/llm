{
 "cells": [
  {
   "cell_type": "markdown",
   "metadata": {},
   "source": [
    "# Travel Guide Generator using Web Scraping and LLMs\n",
    "\n",
    "In this notebook, we'll create a travel guide generator that:\n",
    "1. Scrapes web content about a destination\n",
    "2. Uses Ollama (with OpenAI-style interface) to process the information\n",
    "3. Generates a structured travel guide\n",
    "\n",
    "First, let's import our required libraries."
   ]
  },
  {
   "cell_type": "code",
   "execution_count": 81,
   "metadata": {},
   "outputs": [],
   "source": [
    "import requests\n",
    "from bs4 import BeautifulSoup\n",
    "import json\n",
    "from IPython.display import Markdown, display\n",
    "from openai import OpenAI\n",
    "\n",
    "# Constants\n",
    "# OLLAMA_API = \"http://localhost:11434/api/chat\"\n",
    "# HEADERS = {\"Content-Type\": \"application/json\"}\n",
    "\n",
    "# Define our model\n",
    "MODEL = \"qwen2\"\n",
    "\n",
    "ollama_via_openai = OpenAI(base_url='http://localhost:11434/v1', api_key='qwen2')"
   ]
  },
  {
   "cell_type": "code",
   "execution_count": 80,
   "metadata": {},
   "outputs": [
    {
     "name": "stdout",
     "output_type": "stream",
     "text": [
      "NAME               ID              SIZE      MODIFIED   \n",
      "qwen2:latest       dd314f039b9d    4.4 GB    3 days ago    \n",
      "llama3.2:latest    a80c4f17acd5    2.0 GB    3 days ago    \n"
     ]
    }
   ],
   "source": [
    "!ollama list"
   ]
  },
  {
   "cell_type": "markdown",
   "metadata": {},
   "source": [
    "## Step 1: Web Scraping\n",
    "\n",
    "Let's create our web scraping function to gather information about the destination."
   ]
  },
  {
   "cell_type": "code",
   "execution_count": 82,
   "metadata": {},
   "outputs": [],
   "source": [
    "def scrape_destination_info(destination):\n",
    "    \"\"\"Scrape travel information from Wikitravel\"\"\"\n",
    "    formatted_destination = destination.replace(' ', '_')\n",
    "    url = f\"https://wikitravel.org/en/{formatted_destination}\"\n",
    "    \n",
    "    headers = {\n",
    "        'User-Agent': 'Mozilla/5.0 (Windows NT 10.0; Win64; x64) AppleWebKit/537.36'\n",
    "    }\n",
    "    \n",
    "    try:\n",
    "        response = requests.get(url, headers=headers)\n",
    "        response.raise_for_status()\n",
    "        soup = BeautifulSoup(response.text, 'html.parser')\n",
    "        \n",
    "        # Get main content div\n",
    "        content = soup.find('div', {'id': 'mw-content-text'})\n",
    "        if not content:\n",
    "            return None\n",
    "            \n",
    "        # Initialize dictionary for different sections\n",
    "        info = {\n",
    "            'overview': '',\n",
    "            'attractions': '',\n",
    "            'transportation': '',\n",
    "            'food': '',\n",
    "            'tips': ''\n",
    "        }\n",
    "        \n",
    "        # Get overview (usually first few paragraphs before any heading)\n",
    "        intro_paras = []\n",
    "        current = content.find('p')\n",
    "        while current and current.name == 'p':\n",
    "            intro_paras.append(current.get_text().strip())\n",
    "            current = current.find_next_sibling()\n",
    "        info['overview'] = ' '.join(intro_paras)\n",
    "        \n",
    "        # Find specific sections by their headings\n",
    "        headings = content.find_all(['h2', 'h3'])\n",
    "        current_section = None\n",
    "        for heading in headings:\n",
    "            heading_text = heading.get_text().lower()\n",
    "            \n",
    "            # Map headings to our sections\n",
    "            if 'see' in heading_text or 'sight' in heading_text:\n",
    "                current_section = 'attractions'\n",
    "            elif 'get around' in heading_text or 'transport' in heading_text:\n",
    "                current_section = 'transportation'\n",
    "            elif 'eat' in heading_text or 'food' in heading_text:\n",
    "                current_section = 'food'\n",
    "            elif 'understand' in heading_text or 'tips' in heading_text:\n",
    "                current_section = 'tips'\n",
    "            \n",
    "            # If we found a relevant section, get its content\n",
    "            if current_section:\n",
    "                section_content = []\n",
    "                next_elem = heading.find_next_sibling()\n",
    "                while next_elem and next_elem.name not in ['h2', 'h3']:\n",
    "                    if next_elem.name == 'p':\n",
    "                        section_content.append(next_elem.get_text().strip())\n",
    "                    next_elem = next_elem.find_next_sibling()\n",
    "                info[current_section] += ' '.join(section_content)\n",
    "        \n",
    "        # # Print preview of what we found\n",
    "        # print(\"Scraped content preview:\")\n",
    "        # for section, content in info.items():\n",
    "        #     print(f\"\\n{section.upper()}:\")\n",
    "        #     print(content[:200] + \"...\" if content else \"No content found\")\n",
    "            \n",
    "        return info\n",
    "        \n",
    "    except Exception as e:\n",
    "        print(f\"Error scraping data: {e}\")\n",
    "        return None"
   ]
  },
  {
   "cell_type": "markdown",
   "metadata": {},
   "source": [
    "## Step 2: Define Prompts\n",
    "\n",
    "We'll create system and user prompts for our LLM to process the scraped content."
   ]
  },
  {
   "cell_type": "code",
   "execution_count": 83,
   "metadata": {},
   "outputs": [],
   "source": [
    "def get_system_prompt():\n",
    "    return \"\"\"You are a travel guide generator. You MUST output ONLY a JSON object with exactly these 5 keys:\n",
    "    - overview\n",
    "    - attractions\n",
    "    - transportation\n",
    "    - food_and_dining\n",
    "    - tips\n",
    "    \n",
    "    Each key MUST contain a plain text string value (not a list or object).\n",
    "    For attractions, transportation, and other structured information, \n",
    "    include it as formatted text with bullet points or numbering.\n",
    "    \n",
    "    Example format:\n",
    "    {\n",
    "        \"overview\": \"Paris is a beautiful city...\",\n",
    "        \"attractions\": \"1. Eiffel Tower - The iconic symbol of Paris...\\n2. The Louvre - World's largest museum...\",\n",
    "        \"transportation\": \"Metro: The Paris Metro is extensive...\\nBus: Bus services run throughout...\",\n",
    "        \"food_and_dining\": \"Paris offers world-class dining...\\n- Cafes: Traditional French cafes...\\n- Restaurants: Michelin-starred...\",\n",
    "        \"tips\": \"1. Learn basic French phrases\\n2. Buy metro tickets in bulk\\n3. Many shops close on Sundays\"\n",
    "    }\n",
    "    \n",
    "    The response MUST be a valid JSON object and MUST contain all these keys with text string values.\n",
    "    Do not use nested objects or arrays.\"\"\"\n",
    "\n",
    "def get_user_prompt(destination, info):\n",
    "    return f\"\"\"Create a travel guide for {destination} using this information:\n",
    "\n",
    "Overview: {info['overview']}\n",
    "\n",
    "Attractions: {info['attractions']}\n",
    "\n",
    "Transportation: {info['transportation']}\n",
    "\n",
    "Food & Dining: {info['food']}\n",
    "\n",
    "Tips & Understanding: {info['tips']}\n",
    "\n",
    "Generate a travel guide as a JSON object with exactly these keys:\n",
    "{{\n",
    "    \"overview\": \"brief city introduction\",\n",
    "    \"attractions\": \"main tourist sites\",\n",
    "    \"transportation\": \"how to get around\",\n",
    "    \"food_and_dining\": \"food recommendations\",\n",
    "    \"tips\": \"practical advice\"\n",
    "}}\n",
    "\"\"\""
   ]
  },
  {
   "cell_type": "markdown",
   "metadata": {},
   "source": [
    "## Step 3: Generate Travel Guide\n",
    "\n",
    "Now let's create a function that uses Ollama to generate our guide."
   ]
  },
  {
   "cell_type": "code",
   "execution_count": 84,
   "metadata": {},
   "outputs": [],
   "source": [
    "def generate_guide(destination, content):\n",
    "    \"\"\"Generate travel guide using Ollama\"\"\"\n",
    "    try:\n",
    "        response = ollama_via_openai.chat.completions.create(\n",
    "            model=MODEL,\n",
    "            messages=[\n",
    "                {\"role\": \"system\", \"content\": get_system_prompt()},\n",
    "                {\"role\": \"user\", \"content\": get_user_prompt(destination, content)}\n",
    "            ],\n",
    "            response_format={\"type\": \"json_object\"},\n",
    "            temperature=0.3  # Add lower temperature for more consistent output\n",
    "        )\n",
    "        \n",
    "        # Print raw response for debugging\n",
    "        # print(\"Raw response content:\")\n",
    "        # print(response.choices[0].message.content)\n",
    "        \n",
    "        try:\n",
    "            result = json.loads(response.choices[0].message.content)\n",
    "            \n",
    "            # Verify all required keys are present\n",
    "            required_keys = ['overview', 'attractions', 'transportation', 'food_and_dining', 'tips']\n",
    "            missing_keys = [key for key in required_keys if key not in result]\n",
    "            if missing_keys:\n",
    "                print(f\"Missing required keys: {missing_keys}\")\n",
    "                return None\n",
    "                \n",
    "            return result\n",
    "            \n",
    "        except json.JSONDecodeError as json_err:\n",
    "            print(f\"JSON parsing error: {json_err}\")\n",
    "            print(\"Problematic content:\")\n",
    "            print(response.choices[0].message.content)\n",
    "            return None\n",
    "            \n",
    "    except Exception as e:\n",
    "        print(f\"Error generating guide: {e}\")\n",
    "        return None"
   ]
  },
  {
   "cell_type": "markdown",
   "metadata": {},
   "source": [
    "## Step 4: Format and Display Guide\n",
    "\n",
    "Let's create a function to format our guide in a readable way."
   ]
  },
  {
   "cell_type": "code",
   "execution_count": 85,
   "metadata": {},
   "outputs": [],
   "source": [
    "def format_guide(guide_data, destination):\n",
    "    \"\"\"Format the guide data as markdown\"\"\"\n",
    "    markdown_text = f\"# Travel Guide: {destination}\\n\\n\"\n",
    "    \n",
    "    # For Overview section\n",
    "    if 'overview' in guide_data:\n",
    "        markdown_text += \"## Overview\\n\\n\"\n",
    "        markdown_text += f\"{guide_data['overview']}\\n\\n\"\n",
    "    \n",
    "    # For Attractions section\n",
    "    if 'attractions' in guide_data:\n",
    "        markdown_text += \"## Must-See Attractions\\n\\n\"\n",
    "        attractions = guide_data['attractions']\n",
    "        if isinstance(attractions, list):\n",
    "            for attraction in attractions:\n",
    "                markdown_text += f\"### {attraction['name']}\\n\"\n",
    "                markdown_text += f\"{attraction['description']}\\n\\n\"\n",
    "        else:\n",
    "            markdown_text += f\"{attractions}\\n\\n\"\n",
    "    \n",
    "    # For Transportation section\n",
    "    if 'transportation' in guide_data:\n",
    "        markdown_text += \"## Getting Around\\n\\n\"\n",
    "        transport = guide_data['transportation']\n",
    "        if isinstance(transport, dict):\n",
    "            for method, info in transport.items():\n",
    "                markdown_text += f\"### {method}\\n\"\n",
    "                markdown_text += f\"{info}\\n\\n\"\n",
    "        else:\n",
    "            markdown_text += f\"{transport}\\n\\n\"\n",
    "    \n",
    "    # For Food & Dining section\n",
    "    if 'food_and_dining' in guide_data:\n",
    "        markdown_text += \"## Food & Dining\\n\\n\"\n",
    "        dining = guide_data['food_and_dining']\n",
    "        if isinstance(dining, list):\n",
    "            for item in dining:\n",
    "                if isinstance(item, dict):\n",
    "                    for title, desc in item.items():\n",
    "                        markdown_text += f\"### {title}\\n\"\n",
    "                        markdown_text += f\"{desc}\\n\\n\"\n",
    "                else:\n",
    "                    markdown_text += f\"- {item}\\n\"\n",
    "        else:\n",
    "            markdown_text += f\"{dining}\\n\\n\"\n",
    "    \n",
    "    # For Tips section\n",
    "    if 'tips' in guide_data:\n",
    "        markdown_text += \"## Practical Tips\\n\\n\"\n",
    "        tips = guide_data['tips']\n",
    "        if isinstance(tips, list):\n",
    "            for tip in tips:\n",
    "                markdown_text += f\"- {tip}\\n\"\n",
    "        else:\n",
    "            markdown_text += f\"{tips}\\n\\n\"\n",
    "    \n",
    "    return markdown_text"
   ]
  },
  {
   "cell_type": "markdown",
   "metadata": {},
   "source": [
    "## Step 5: Put It All Together\n",
    "\n",
    "Finally, let's create our main function that combines all steps."
   ]
  },
  {
   "cell_type": "code",
   "execution_count": 86,
   "metadata": {},
   "outputs": [],
   "source": [
    "def create_travel_guide(destination):\n",
    "    \"\"\"Main function to create a travel guide\"\"\"\n",
    "    print(f\"Scraping information for {destination}...\")\n",
    "    content = scrape_destination_info(destination)\n",
    "    if not content:\n",
    "        print(\"Failed to scrape content\")\n",
    "        return\n",
    "    \n",
    "    print(\"Generating guide...\")\n",
    "    guide_data = generate_guide(destination, content)\n",
    "    if not guide_data:\n",
    "        print(\"Failed to generate guide\")\n",
    "        return\n",
    "    \n",
    "    markdown_guide = format_guide(guide_data, destination)\n",
    "    display(Markdown(markdown_guide))"
   ]
  },
  {
   "cell_type": "markdown",
   "metadata": {},
   "source": [
    "## Try It Out!\n",
    "\n",
    "Now you can generate a travel guide for any destination:"
   ]
  },
  {
   "cell_type": "code",
   "execution_count": 87,
   "metadata": {},
   "outputs": [
    {
     "name": "stdout",
     "output_type": "stream",
     "text": [
      "Scraping information for Paris...\n",
      "Generating guide...\n"
     ]
    },
    {
     "data": {
      "text/markdown": [
       "# Travel Guide: Paris\n",
       "\n",
       "## Overview\n",
       "\n",
       "{'title': 'Paris, the City of Light', 'description': \"Paris, often referred to as 'The City of Light', is a world-renowned capital that combines history with modernity. It's famous for its iconic landmarks like the Eiffel Tower and Notre-Dame Cathedral, as well as its rich cultural heritage and artistic contributions.\"}\n",
       "\n",
       "## Must-See Attractions\n",
       "\n",
       "{'top_sights': [{'name': 'Eiffel Tower', 'description': 'A symbol of Paris with stunning views from its top floors.'}, {'name': 'Louvre Museum', 'description': 'Home to the Mona Lisa, this museum is one of the largest in the world.'}, {'name': 'Notre-Dame Cathedral', 'description': 'An iconic Gothic masterpiece that has been a center for worship and culture for centuries.'}, {'name': 'Montmartre', 'description': 'A bohemian neighborhood with the Sacré-Cœur Basilica offering panoramic views of Paris.'}, {'name': 'Champs-Élysées', 'description': 'A famous avenue lined with luxury shops, cafes, and theaters ending at the Arc de Triomphe.'}]}\n",
       "\n",
       "## Getting Around\n",
       "\n",
       "### options\n",
       "[{'mode': 'Public Transportation', 'details': 'Paris has an extensive network of buses, metro lines (RER), and suburban trains that cover most areas of the city.'}, {'mode': 'Biking', 'details': \"The Vélib' bike-sharing system allows visitors to explore Paris on two wheels.\"}, {'mode': 'Walking', 'details': 'Paris is designed for walking with many pedestrian zones, making it easy to navigate and enjoy its architecture.'}, {'mode': 'Taxis and Ride-Sharing', 'details': 'Uber, Lyft alternatives, and traditional taxis are readily available in the city.'}]\n",
       "\n",
       "### tips\n",
       "[{'title': 'Plan your route', 'description': 'Use maps or apps like Google Maps to plan routes ahead of time.'}, {'title': 'Avoid rush hour', 'description': 'Traffic can be heavy during peak hours, especially on weekdays from 7-9am and 5-8pm.'}]\n",
       "\n",
       "## Food & Dining\n",
       "\n",
       "{'recommendations': [{'name': 'Bistros and Cafés', 'description': 'Parisian bistros offer classic French cuisine in a casual setting.'}, {'name': 'Pâtisseries', 'description': 'Indulge in pastries like croissants, macarons, and eclairs from famous bakeries.'}, {'name': 'Street Food', 'description': 'Discover street food markets for local delicacies and snacks.'}, {'name': 'Wine Bars', 'description': 'Savor French wines paired with cheese or charcuterie at wine bars.'}], 'local_favorites': [{'name': 'Crêperies', 'description': 'Try traditional crêpes filled with sweet or savory ingredients.'}, {'name': 'Bread Shops', 'description': 'Visit artisanal bakeries for freshly baked baguettes and pastries.'}]}\n",
       "\n",
       "## Practical Tips\n",
       "\n",
       "{'general_tips': [{'title': 'Get a Paris Pass', 'description': 'The Paris Pass offers free or discounted entry to many attractions and includes unlimited travel on public transport.'}, {'title': 'Visit during off-peak times', 'description': 'Avoid the crowds by visiting popular sites early in the morning or late afternoon.'}, {'title': 'Use public transportation', 'description': \"Paris' efficient public transport system is an excellent way to explore the city without a car.\"}], 'safety_and_security': [{'title': 'Be aware of pickpockets', 'description': 'Keep your belongings secure, especially in crowded areas like tourist sites and on public transportation.'}, {'title': 'Stay informed about local events', 'description': 'Check for any city-wide events that may affect travel or crowds.'}]}\n",
       "\n"
      ],
      "text/plain": [
       "<IPython.core.display.Markdown object>"
      ]
     },
     "metadata": {},
     "output_type": "display_data"
    }
   ],
   "source": [
    "# Example usage\n",
    "create_travel_guide(\"Paris\")"
   ]
  },
  {
   "cell_type": "markdown",
   "metadata": {},
   "source": [
    "## Learning Exercises\n",
    "\n",
    "1. Try modifying the system prompt to get different types of information\n",
    "2. Add error handling for cases where certain information is missing\n",
    "3. Experiment with different formatting styles for the output\n",
    "4. Add functionality to save guides to files\n",
    "5. Implement caching to avoid repeated web scraping\n",
    "\n",
    "## Notes\n",
    "\n",
    "- The quality of the guide depends on the available content on Wikitravel\n",
    "- You might want to add more sources for comprehensive information\n",
    "- Consider rate limiting for web scraping to be respectful to the servers"
   ]
  }
 ],
 "metadata": {
  "kernelspec": {
   "display_name": "Python 3 (ipykernel)",
   "language": "python",
   "name": "python3"
  },
  "language_info": {
   "codemirror_mode": {
    "name": "ipython",
    "version": 3
   },
   "file_extension": ".py",
   "mimetype": "text/x-python",
   "name": "python",
   "nbconvert_exporter": "python",
   "pygments_lexer": "ipython3",
   "version": "3.11.11"
  }
 },
 "nbformat": 4,
 "nbformat_minor": 4
}
